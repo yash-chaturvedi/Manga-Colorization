{
 "cells": [
  {
   "cell_type": "code",
   "execution_count": 1,
   "metadata": {},
   "outputs": [
    {
     "name": "stderr",
     "output_type": "stream",
     "text": [
      "Using TensorFlow backend.\n"
     ]
    }
   ],
   "source": [
    "import os\n",
    "import cv2\n",
    "import numpy as np\n",
    "import keras\n",
    "from keras.layers import *\n",
    "from keras.optimizers import *\n",
    "from keras.models import *\n",
    "import matplotlib.pyplot as plt\n",
    "from keras.regularizers import *\n",
    "from keras.utils import plot_model\n",
    "from keras.callbacks import TensorBoard\n",
    "from time import time\n",
    "from keras.preprocessing.image import ImageDataGenerator"
   ]
  },
  {
   "cell_type": "code",
   "execution_count": 2,
   "metadata": {},
   "outputs": [],
   "source": [
    "gen=load_model(\"D:\\Jupyter\\gen.h5\",compile=False)"
   ]
  },
  {
   "cell_type": "code",
   "execution_count": 3,
   "metadata": {},
   "outputs": [],
   "source": [
    "x_shape = 512\n",
    "y_shape = 512\n",
    " \n",
    "val_data = 'Manga_Colorization/datasets/test/'\n",
    "store2 = 'Result/test_store/'\n",
    "\n",
    "val_samples = len(os.listdir(val_data))\n",
    "\n",
    "rgb_val = np.zeros((val_samples, x_shape, y_shape, 3))\n",
    "gray_val = np.zeros((val_samples, x_shape, y_shape, 1))\n",
    "\n",
    "for i, image in enumerate(os.listdir(val_data)[:val_samples]):\n",
    "    I = cv2.imread(val_data+image)\n",
    "    I = cv2.resize(I, (x_shape, y_shape))\n",
    "    J = cv2.cvtColor(I, cv2.COLOR_BGR2GRAY)\n",
    "    J = J.reshape(J.shape[0], J.shape[1], 1)\n",
    "    rgb_val[i] = I; gray_val[i] = J\n",
    "    "
   ]
  },
  {
   "cell_type": "code",
   "execution_count": 4,
   "metadata": {},
   "outputs": [],
   "source": [
    "gen_image_val = gen.predict(gray_val, batch_size=8)\n",
    "for j in range(val_samples):\n",
    "    cv2.imwrite(store2+'/'+str(j)+'.jpg', gen_image_val[j])"
   ]
  },
  {
   "cell_type": "code",
   "execution_count": null,
   "metadata": {},
   "outputs": [],
   "source": []
  }
 ],
 "metadata": {
  "kernelspec": {
   "display_name": "Python 3",
   "language": "python",
   "name": "python3"
  },
  "language_info": {
   "codemirror_mode": {
    "name": "ipython",
    "version": 3
   },
   "file_extension": ".py",
   "mimetype": "text/x-python",
   "name": "python",
   "nbconvert_exporter": "python",
   "pygments_lexer": "ipython3",
   "version": "3.6.8"
  }
 },
 "nbformat": 4,
 "nbformat_minor": 4
}
